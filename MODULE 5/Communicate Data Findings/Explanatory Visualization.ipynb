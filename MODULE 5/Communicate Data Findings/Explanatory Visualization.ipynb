{
 "cells": [
  {
   "cell_type": "markdown",
   "metadata": {
    "slideshow": {
     "slide_type": "slide"
    }
   },
   "source": [
    "# Project: Communicate Data Findings\n",
    "> Exploring Ford-GoBike Data"
   ]
  },
  {
   "cell_type": "markdown",
   "metadata": {
    "slideshow": {
     "slide_type": "subslide"
    }
   },
   "source": [
    "<a id='sources'></a>\n",
    "## Data Sources\n",
    "\n",
    ">1. **Name:** result.csv\n",
    "><ul>   \n",
    ">    <li><b>Definition:</b> Ford GoBike System - Data</li>\n",
    ">    <li><b>Source:</b> <a href =\"https://www.fordgobike.com/system-data\">https://www.fordgobike.com/system-data</a></li>    \n",
    ">    <li><b>Version:</b>Files from 01.2018 - 02.2019</li>\n",
    "></ul>\n"
   ]
  },
  {
   "cell_type": "markdown",
   "metadata": {
    "slideshow": {
     "slide_type": "skip"
    }
   },
   "source": [
    "#### Import of the needed libraries:"
   ]
  },
  {
   "cell_type": "code",
   "execution_count": 1,
   "metadata": {
    "slideshow": {
     "slide_type": "skip"
    }
   },
   "outputs": [
    {
     "ename": "ModuleNotFoundError",
     "evalue": "No module named 'seaborn'",
     "output_type": "error",
     "traceback": [
      "\u001b[1;31m---------------------------------------------------------------------------\u001b[0m",
      "\u001b[1;31mModuleNotFoundError\u001b[0m                       Traceback (most recent call last)",
      "\u001b[1;32m<ipython-input-1-3babae361da2>\u001b[0m in \u001b[0;36m<module>\u001b[1;34m\u001b[0m\n\u001b[0;32m      4\u001b[0m \u001b[1;32mimport\u001b[0m \u001b[0mpandas\u001b[0m \u001b[1;32mas\u001b[0m \u001b[0mpd\u001b[0m\u001b[1;33m\u001b[0m\u001b[1;33m\u001b[0m\u001b[0m\n\u001b[0;32m      5\u001b[0m \u001b[1;32mimport\u001b[0m \u001b[0mmatplotlib\u001b[0m\u001b[1;33m.\u001b[0m\u001b[0mpyplot\u001b[0m \u001b[1;32mas\u001b[0m \u001b[0mplt\u001b[0m\u001b[1;33m\u001b[0m\u001b[1;33m\u001b[0m\u001b[0m\n\u001b[1;32m----> 6\u001b[1;33m \u001b[1;32mimport\u001b[0m \u001b[0mseaborn\u001b[0m \u001b[1;32mas\u001b[0m \u001b[0msns\u001b[0m\u001b[1;33m\u001b[0m\u001b[1;33m\u001b[0m\u001b[0m\n\u001b[0m\u001b[0;32m      7\u001b[0m \u001b[1;32mimport\u001b[0m \u001b[0mmissingno\u001b[0m \u001b[1;32mas\u001b[0m \u001b[0mms\u001b[0m\u001b[1;33m\u001b[0m\u001b[1;33m\u001b[0m\u001b[0m\n\u001b[0;32m      8\u001b[0m \u001b[1;32mimport\u001b[0m \u001b[0mzipfile\u001b[0m\u001b[1;33m\u001b[0m\u001b[1;33m\u001b[0m\u001b[0m\n",
      "\u001b[1;31mModuleNotFoundError\u001b[0m: No module named 'seaborn'"
     ]
    }
   ],
   "source": [
    "#Import important libraries\n",
    "import os\n",
    "import numpy as np\n",
    "import pandas as pd\n",
    "import matplotlib.pyplot as plt\n",
    "import seaborn as sns\n",
    "import missingno as ms\n",
    "import zipfile\n",
    "import requests\n",
    "import geopy.distance\n",
    "from sklearn.cluster import KMeans\n",
    "\n",
    "%matplotlib inline\n",
    "%config InlineBackend.figure_format = 'retina'"
   ]
  },
  {
   "cell_type": "markdown",
   "metadata": {
    "slideshow": {
     "slide_type": "skip"
    }
   },
   "source": [
    "<a id='analysis'></a>\n",
    "## Explanatory Data Visualization"
   ]
  },
  {
   "cell_type": "code",
   "execution_count": null,
   "metadata": {
    "slideshow": {
     "slide_type": "skip"
    }
   },
   "outputs": [],
   "source": [
    "df = pd.read_csv(\"result_clean.csv\")\n",
    "df_station_names = pd.read_csv(\"df_station_names.csv\")\n",
    "#wrong datatypes again, maybe change the datatype to HDF5\n",
    "for col in [\"start_time\", \"end_time\"]:\n",
    "    df[col] = pd.to_datetime(df[col])\n",
    "    \n",
    "for col in [\"member_birth_year\"]:\n",
    "    df[col] = df[col].astype(\"int\")\n",
    "\n",
    "for col in [\"start_station_id\", \"end_station_id\", \"member_birth_year\", \"bike_id\"]:\n",
    "    df[col] = df[col].astype(\"str\")\n",
    "    \n",
    "kmeans = KMeans(n_clusters=3).fit(df_station_names[[\"station_longitude\", \"station_latitude\"]])\n",
    "df_station_names[\"label\"] = kmeans.labels_\n",
    "mapping = {0: \"San Francisco\", 1: \"San José\", 2: \"East Bay\"}\n",
    "df_station_names[\"label_name\"] = df_station_names[\"label\"].map(mapping)\n",
    "df_station_names.drop_duplicates(subset = [\"new_id\"], inplace = True)\n",
    "df = df.merge(df_station_names[[\"new_id\", \"label\"]], left_on = \"start_station_id_new\", right_on = \"new_id\", how = \"outer\")\n",
    "df[\"label_name\"] = df[\"label\"].map(mapping)\n",
    "df[\"age\"] = df[\"member_birth_year\"].apply(lambda x: 2018 - int(x))\n",
    "df['month_year'] = pd.to_datetime(df[\"start_time\"]).dt.to_period('M')\n",
    "df['day_month_year'] = pd.to_datetime(df[\"start_time\"]).dt.to_period('D')\n",
    "df[\"dayofweek\"] = df[\"start_time\"].apply(lambda x: x.dayofweek)\n",
    "df[\"start_hr\"] = df[\"start_time\"].apply(lambda x: x.hour)\n",
    "df[\"end_hr\"] = df[\"end_time\"].apply(lambda x: x.hour)\n",
    "df_age = df.query(\"age != 2018 and age < 100\").copy()\n",
    "bins = [x for x in range(10,101, 10)]\n",
    "df_age[\"age_bins\"] = pd.cut(df_age.age, bins=bins,precision=0,include_lowest=False)"
   ]
  },
  {
   "cell_type": "markdown",
   "metadata": {
    "slideshow": {
     "slide_type": "slide"
    }
   },
   "source": [
    "**Source:** <a href = https://kepler.gl/>kepler.gl</a>\n",
    "> This is on what we will take a closer look on - San Francisco, East Bay and San José:\n",
    "\n",
    "![All Stations](Images/stations_kepler.png)\n"
   ]
  },
  {
   "cell_type": "markdown",
   "metadata": {
    "slideshow": {
     "slide_type": "slide"
    }
   },
   "source": [
    "> San Francisco and East Bay\n",
    "\n",
    "![Upper Two Cluster](Images/stations_1.png)\n"
   ]
  },
  {
   "cell_type": "markdown",
   "metadata": {
    "slideshow": {
     "slide_type": "slide"
    }
   },
   "source": [
    "> San José\n",
    "\n",
    "![Lower Cluster](Images/stations_2.png)"
   ]
  },
  {
   "cell_type": "markdown",
   "metadata": {
    "slideshow": {
     "slide_type": "slide"
    }
   },
   "source": [
    "### Who are the people that are using this service? Let's find out - at first we will look on the average trip duration."
   ]
  },
  {
   "cell_type": "code",
   "execution_count": null,
   "metadata": {
    "slideshow": {
     "slide_type": "subslide"
    }
   },
   "outputs": [],
   "source": [
    "#https://stackoverflow.com/questions/42741687/python-histogram-outline\n",
    "fig, axes = plt.subplots(figsize = (12,5), dpi = 110)\n",
    "n = 1\n",
    "for i, x in enumerate([\"San Francisco\", \"East Bay\", \"San José\"]):\n",
    "    df_new = df.query(f\"label_name == '{x}'\")\n",
    "\n",
    "    bin_size = 100\n",
    "    bins = np.arange(0,df_new.duration_sec.max()+bin_size,bin_size)   \n",
    "\n",
    "    plt.hist(df_new.duration_sec, bins = bins, label = x, color = sns.color_palette(\"viridis\")[n], edgecolor = \"black\", lw = 0.4);\n",
    "    n += 2\n",
    "    \n",
    "plt.xticks(ticks = [x for x in range(0,7000,250)])\n",
    "plt.legend()\n",
    "plt.xlim(-100,3500);\n",
    "plt.title(\"Frequency of trip durations per area in seconds\")\n",
    "plt.xlabel(\"Seconds\")\n",
    "plt.tight_layout()\n",
    "cur_axes = plt.gca()\n",
    "cur_axes.axes.get_yaxis().set_visible(False)\n",
    "sns.despine(fig, left = True)"
   ]
  },
  {
   "cell_type": "markdown",
   "metadata": {
    "slideshow": {
     "slide_type": "slide"
    }
   },
   "source": [
    "### Looking at these, trends are looking similar to each other, although it seems like trips in East Bay are usually a little bit shorter in duration. What about gender?"
   ]
  },
  {
   "cell_type": "code",
   "execution_count": null,
   "metadata": {
    "slideshow": {
     "slide_type": "subslide"
    }
   },
   "outputs": [],
   "source": [
    "fig, ax = plt.subplots(figsize =(12,5), dpi =110)\n",
    "sns.countplot(x = \"label_name\", data = df,  order=df.label_name.value_counts().index,palette=\"viridis\",\n",
    "              hue = \"member_gender\", edgecolor = \"black\", lw = 0.5);\n",
    "cur_axes = plt.gca()\n",
    "cur_axes.axes.get_yaxis().set_visible(False)\n",
    "sns.despine(fig, left = True)\n",
    "\n",
    "n_1 = ax.patches[0].get_height() + ax.patches[3].get_height() + ax.patches[6].get_height() + ax.patches[9].get_height()\n",
    "n_2 = ax.patches[1].get_height() + ax.patches[4].get_height() + ax.patches[7].get_height() + ax.patches[10].get_height()\n",
    "n_3 = ax.patches[2].get_height() + ax.patches[5].get_height() + ax.patches[8].get_height() + ax.patches[11].get_height()\n",
    "\n",
    "for i, p in enumerate(ax.patches):\n",
    "    if i in [0,3,6,9]:\n",
    "        n = n_1\n",
    "        \n",
    "    elif i in [1,4,7,10]:\n",
    "        n = n_2\n",
    "    \n",
    "    else:\n",
    "        n = n_3\n",
    "    \n",
    "    ax.annotate('{:10.0f}%'.format(p.get_height()/n*100), (p.get_x()-0.05, p.get_height()+45000))\n",
    "\n",
    "plt.title(\"Relative Userfrequency by gender and area \");\n",
    "plt.xlabel(\"\");"
   ]
  },
  {
   "cell_type": "markdown",
   "metadata": {
    "slideshow": {
     "slide_type": "slide"
    }
   },
   "source": [
    "### Looking at the plot and the relative frequencies, the male percentage is > 60% for all three areas. But are their users between them who are willing to subscribe to this service or are the most of them 'normal' cutsomers?"
   ]
  },
  {
   "cell_type": "code",
   "execution_count": null,
   "metadata": {
    "slideshow": {
     "slide_type": "subslide"
    }
   },
   "outputs": [],
   "source": [
    "value_ct = df.user_type.value_counts().iloc[:31]\n",
    "fig, ax = plt.subplots(figsize = (12,5), dpi = 110)\n",
    "sns.countplot(x = \"user_type\", data = df, order=value_ct.index, palette = \"viridis\", lw = 0.5, edgecolor = \"black\");\n",
    "cur_axes = plt.gca()\n",
    "cur_axes.axes.get_yaxis().set_visible(False)\n",
    "sns.despine(fig, left = True)\n",
    "for p in ax.patches:\n",
    "    ax.annotate('{:10.0f}%'.format(p.get_height()/(1906966+320033)*100), (p.get_x()+0.31, p.get_height()+40000))\n",
    "plt.title(\"Users By Type\");\n",
    "plt.xlabel(\"\");"
   ]
  },
  {
   "cell_type": "markdown",
   "metadata": {
    "slideshow": {
     "slide_type": "slide"
    }
   },
   "source": [
    "### And how is the age of the users distributed?"
   ]
  },
  {
   "cell_type": "code",
   "execution_count": null,
   "metadata": {
    "slideshow": {
     "slide_type": "subslide"
    }
   },
   "outputs": [],
   "source": [
    "fig, ax = plt.subplots(figsize = (15,4), dpi = 110)\n",
    "color = sns.color_palette(\"viridis\")[2]\n",
    "sns.countplot(x = \"age\", data = df.query(\"age != 2018 and age < 73 and label == 0\").sort_values(\"age\"), color = sns.color_palette(\"viridis\")[1], label = \"San Francisco\", lw = 0.5, edgecolor = \"black\");\n",
    "sns.countplot(x = \"age\", data = df.query(\"age != 2018 and age < 73 and label == 2\").sort_values(\"age\"), color = sns.color_palette(\"viridis\")[3], label = \"East Bay\", lw = 0.5, edgecolor = \"black\");\n",
    "sns.countplot(x = \"age\", data = df.query(\"age != 2018 and age < 73 and label == 1\").sort_values(\"age\"), color = sns.color_palette(\"viridis\")[5], label = \"San José\", lw = 0.5, edgecolor = \"black\");\n",
    "plt.tight_layout()\n",
    "cur_axes = plt.gca()\n",
    "cur_axes.axes.get_yaxis().set_visible(False)\n",
    "sns.despine(fig, left = True)\n",
    "plt.title(\"Age distribution per area\")\n",
    "plt.legend();"
   ]
  },
  {
   "cell_type": "markdown",
   "metadata": {
    "slideshow": {
     "slide_type": "slide"
    }
   },
   "source": [
    "### The East Bay age structure is broader than the one of San Francisco and San José has the youngest average group of users. The next plots will focus on time components of our data. What about trips per day?"
   ]
  },
  {
   "cell_type": "code",
   "execution_count": null,
   "metadata": {
    "slideshow": {
     "slide_type": "subslide"
    }
   },
   "outputs": [],
   "source": [
    "fig, ax = plt.subplots(figsize = (12,4), dpi = 110)\n",
    "sns.countplot(x = \"dayofweek\", data = df, palette = \"viridis\", lw = 0.5, edgecolor = \"black\");\n",
    "\n",
    "plt.tight_layout()\n",
    "cur_axes = plt.gca()\n",
    "cur_axes.axes.get_yaxis().set_visible(False)\n",
    "sns.despine(fig, left = True)\n",
    "plt.title(\"Relative frequency of trips per day\")\n",
    "ax.set(xticklabels=[\"Mon\", \"Tue\", \"Wed\", \"Thu\", \"Fri\", \"Sat\", \"Sun\"]);\n",
    "plt.xlabel(\"\")\n",
    "plt.ylim(0,500000)\n",
    "for p in ax.patches:\n",
    "    ax.annotate('{:10.0f}%'.format(p.get_height()/len(df)*100), (p.get_x()+0.1, p.get_height()+20000))\n"
   ]
  },
  {
   "cell_type": "markdown",
   "metadata": {
    "slideshow": {
     "slide_type": "slide"
    }
   },
   "source": [
    "### It looks like the users use the bikes more frequently during the week than during the weekend. And when do they start their trips?"
   ]
  },
  {
   "cell_type": "code",
   "execution_count": null,
   "metadata": {
    "slideshow": {
     "slide_type": "subslide"
    }
   },
   "outputs": [],
   "source": [
    "fig, ax = plt.subplots(figsize = (11,5), dpi = 110)\n",
    "\n",
    "sns.countplot(x = \"start_hr\", data = df, palette = \"viridis\", ax = ax, lw = 0.5, edgecolor = \"black\");\n",
    "\n",
    "plt.tight_layout()\n",
    "cur_axes = plt.gca()\n",
    "cur_axes.axes.get_yaxis().set_visible(False)\n",
    "sns.despine(fig, left = True)\n",
    "plt.title(\"Relative frequency of trips per starting hour\")\n",
    "plt.xlabel(\"Starting hour\")\n",
    "plt.ylim(0,400000)\n",
    "for p in ax.patches:\n",
    "    ax.annotate('{:10.1f}%'.format(p.get_height()/len(df)*100), (p.get_x()-0.8,p.get_height()+15000))\n",
    "\n",
    "ax.text(0-1.15, ax.patches[0].get_height()+13000, '{:10.1f}%'.format(ax.patches[0].get_height()/len(df)*100));\n"
   ]
  },
  {
   "cell_type": "markdown",
   "metadata": {
    "slideshow": {
     "slide_type": "slide"
    }
   },
   "source": [
    "### The most frequent starting hours are at 8 and at 17. Maybe people use it before and after work, which would make sense, because we have a lot of subscribers in working age in our dataset. You only subscribe to something, if you want to use it regulary. The integration into the working/study life would make sense here! \n",
    "\n",
    "### Now we will see if the average duration is dependent on the weekday."
   ]
  },
  {
   "cell_type": "code",
   "execution_count": null,
   "metadata": {
    "slideshow": {
     "slide_type": "skip"
    }
   },
   "outputs": [],
   "source": [
    "#creating the legend object for the next plot\n",
    "legend_obj = []\n",
    "colors = [sns.color_palette(\"viridis\")[0],\n",
    "          sns.color_palette(\"viridis\")[1],\n",
    "          sns.color_palette(\"viridis\")[2],\n",
    "          sns.color_palette(\"viridis\")[3],\n",
    "          sns.color_palette(\"viridis\")[4],\n",
    "          sns.color_palette(\"viridis\")[5],\n",
    "          (163/255, 199/255, 70/255)]\n",
    "days = [\"Mon\", \"Tue\", \"Wed\", \"Thu\", \"Fri\", \"Sat\", \"Sun\"]\n",
    "for i, s in enumerate(days):\n",
    "    legend_obj.append(plt.scatter([],[],color = colors[i]));"
   ]
  },
  {
   "cell_type": "code",
   "execution_count": null,
   "metadata": {
    "slideshow": {
     "slide_type": "subslide"
    }
   },
   "outputs": [],
   "source": [
    "#https://stackoverflow.com/questions/4700614/how-to-put-the-legend-out-of-the-plot\n",
    "\n",
    "fig, ax = plt.subplots(figsize = (12,7), dpi = 110)\n",
    "sns.boxplot(x = \"dayofweek\", y = \"duration_sec\", data = df.groupby([\"dayofweek\", \"month_year\"], as_index = False).mean(), palette = \"viridis\")\n",
    "\n",
    "plt.tight_layout()\n",
    "#cur_axes = plt.gca()\n",
    "#cur_axes.axes.get_yaxis().set_visible(False)\n",
    "sns.despine(fig, left = True)\n",
    "plt.xlabel(\"\")\n",
    "plt.ylabel(\"Duration in seconds\")\n",
    "plt.title(\"Average trip duration per day\")\n",
    "ax.set(xticklabels=[\"Mon\", \"Tue\", \"Wed\", \"Thu\", \"Fri\", \"Sat\", \"Sun\"]);"
   ]
  },
  {
   "cell_type": "markdown",
   "metadata": {
    "slideshow": {
     "slide_type": "slide"
    }
   },
   "source": [
    "### This means, that the frequency of bike usage at the weekend is lower, but the average duration of each trip is greater than during the week!"
   ]
  },
  {
   "cell_type": "code",
   "execution_count": null,
   "metadata": {
    "slideshow": {
     "slide_type": "subslide"
    }
   },
   "outputs": [],
   "source": [
    "#https://stackoverflow.com/questions/4700614/how-to-put-the-legend-out-of-the-plot\n",
    "fig, ax = plt.subplots(figsize = (12,7), dpi = 110)\n",
    "sns.boxplot(x = \"dayofweek\", y = \"duration_sec\", data = df.groupby([\"dayofweek\", \"month_year\", \"label_name\"], as_index = False).mean(), palette = \"viridis\", hue = \"label_name\")\n",
    "plt.tight_layout()\n",
    "#cur_axes = plt.gca()\n",
    "#cur_axes.axes.get_yaxis().set_visible(False)\n",
    "sns.despine(fig, left =True)\n",
    "plt.xlabel(\"\")\n",
    "plt.ylabel(\"Duration in seconds\")\n",
    "plt.title(\"Average trip duration per day per area\")\n",
    "ax.set(xticklabels=[\"Mon\", \"Tue\", \"Wed\",\"Thu\", \"Fri\",\"Sat\", \"Sun\"]);\n",
    "box = ax.get_position()\n",
    "ax.set_position([box.x0, box.y0,box.width * 0.8,box.height])"
   ]
  },
  {
   "cell_type": "markdown",
   "metadata": {
    "slideshow": {
     "slide_type": "slide"
    }
   },
   "source": [
    "### This trend applies for all areas, while we can also see that the users of San Francisco have, on average, the longest duration of trips, followed by East Bay and then San José. And what is the average starting hour per day?"
   ]
  },
  {
   "cell_type": "code",
   "execution_count": null,
   "metadata": {
    "slideshow": {
     "slide_type": "subslide"
    }
   },
   "outputs": [],
   "source": [
    "fig, ax = plt.subplots(figsize = (12,7), dpi = 110)\n",
    "sns.boxplot(x = \"dayofweek\", y = \"start_hr\", data = df.groupby([\"dayofweek\",\"month_year\"], as_index =False).mean(), palette = \"viridis\")\n",
    "plt.tight_layout()\n",
    "#cur_axes = plt.gca()\n",
    "#cur_axes.axes.get_yaxis().set_visible(False)\n",
    "sns.despine(fig, left = True)\n",
    "plt.xlabel(\"\")\n",
    "plt.ylabel(\"Starting hour\")\n",
    "plt.title(\"Average starting hour per day\")\n",
    "ax.set(xticklabels=[\"Mon\", \"Tue\", \"Wed\", \"Thu\", \"Fri\", \"Sat\", \"Sun\"]);"
   ]
  },
  {
   "cell_type": "code",
   "execution_count": null,
   "metadata": {
    "slideshow": {
     "slide_type": "subslide"
    }
   },
   "outputs": [],
   "source": [
    "fig, ax = plt.subplots(figsize = (12,7), dpi = 110)\n",
    "sns.boxplot(x = \"dayofweek\", y = \"start_hr\", data = df.groupby([\"dayofweek\", \"month_year\", \"label_name\"], as_index = False).mean(), palette = \"viridis\", hue = \"label_name\")\n",
    "\n",
    "plt.tight_layout()\n",
    "#cur_axes = plt.gca()\n",
    "#cur_axes.axes.get_yaxis().set_visible(False)\n",
    "sns.despine(fig, left = True)\n",
    "plt.xlabel(\"\")\n",
    "plt.ylabel(\"Starting hour\")\n",
    "plt.title(\"Average starting hour per day per area\")\n",
    "\n",
    "ax.set(xticklabels=[\"Mon\", \"Tue\", \"Wed\", \"Thu\", \"Fri\", \"Sat\", \"Sun\"]);\n"
   ]
  },
  {
   "cell_type": "markdown",
   "metadata": {
    "slideshow": {
     "slide_type": "slide"
    }
   },
   "source": [
    "### Looking at each area is interesting, because Users from East Bay and San José are not only have shorter trip durations on average, but also they start their trips later than San Francisco on average.\n",
    "\n",
    "### For the final visualizations, let's visualize the trips."
   ]
  },
  {
   "cell_type": "markdown",
   "metadata": {
    "slideshow": {
     "slide_type": "subslide"
    }
   },
   "source": [
    "### At first we will look at San Francisco. To get some insight, the visualization will only contain routes with more than 1000 trips:"
   ]
  },
  {
   "cell_type": "markdown",
   "metadata": {
    "slideshow": {
     "slide_type": "subslide"
    }
   },
   "source": [
    "![San Francisco Trips with more than 1000 trips](Images/san_francisco_1000.png)"
   ]
  },
  {
   "cell_type": "markdown",
   "metadata": {
    "slideshow": {
     "slide_type": "slide"
    }
   },
   "source": [
    "### We can see that most of the trips are close to the beach. Now for East Bay with routes with more than 500 trips:"
   ]
  },
  {
   "cell_type": "markdown",
   "metadata": {
    "slideshow": {
     "slide_type": "subslide"
    }
   },
   "source": [
    "![East Bay Trips with more than 500 trips](Images/east_bay_500.png)\n",
    "\n",
    "### Here the main routes are much more spread than in San Francisco. Also it looks like people use this service to quickly overcome smaller distances. For San José we will take a look on routes that have more than 200 trips."
   ]
  },
  {
   "cell_type": "markdown",
   "metadata": {
    "slideshow": {
     "slide_type": "subslide"
    }
   },
   "source": [
    "![San Jose Trips with more than 200 trips](Images/san_jose_200.png)\n",
    "\n",
    "### For San José it looks spread over most of the stations."
   ]
  }
 ],
 "metadata": {
  "celltoolbar": "Slideshow",
  "kernelspec": {
   "display_name": "Python 3",
   "language": "python",
   "name": "python3"
  },
  "language_info": {
   "codemirror_mode": {
    "name": "ipython",
    "version": 3
   },
   "file_extension": ".py",
   "mimetype": "text/x-python",
   "name": "python",
   "nbconvert_exporter": "python",
   "pygments_lexer": "ipython3",
   "version": "3.7.7"
  }
 },
 "nbformat": 4,
 "nbformat_minor": 2
}
